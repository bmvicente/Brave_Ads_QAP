{
 "cells": [
  {
   "attachments": {},
   "cell_type": "markdown",
   "metadata": {},
   "source": [
    "# Brave Ads x  Quadratic Attention Payments - Ecosystem Modelling"
   ]
  },
  {
   "attachments": {},
   "cell_type": "markdown",
   "metadata": {},
   "source": [
    "---"
   ]
  },
  {
   "attachments": {},
   "cell_type": "markdown",
   "metadata": {},
   "source": [
    "# Dependencies"
   ]
  },
  {
   "cell_type": "code",
   "execution_count": 91,
   "metadata": {
    "execution": {
     "iopub.execute_input": "2021-06-15T20:38:18.609109Z",
     "iopub.status.busy": "2021-06-15T20:38:18.608288Z",
     "iopub.status.idle": "2021-06-15T20:38:18.866174Z",
     "shell.execute_reply": "2021-06-15T20:38:18.866616Z"
    }
   },
   "outputs": [],
   "source": [
    "import pandas as pd\n",
    "import numpy as np"
   ]
  },
  {
   "attachments": {},
   "cell_type": "markdown",
   "metadata": {},
   "source": [
    "# Modelling"
   ]
  },
  {
   "cell_type": "code",
   "execution_count": 96,
   "metadata": {},
   "outputs": [
    {
     "name": "stdout",
     "output_type": "stream",
     "text": [
      "   vote_type  degrees_preference quadratic_fee\n",
      "0     Upvote                   2             4\n",
      "1     Upvote                   3             9\n",
      "2     Upvote                   5            25\n",
      "3   Downvote                   1             1\n",
      "4   Downvote                   3             9\n",
      "5     Upvote                   4            16\n",
      "6     Upvote                   4            16\n",
      "7     Upvote                   2             4\n",
      "8   Downvote                   2             4\n",
      "9   Downvote                   5            25\n",
      "10    Upvote                   3             9\n",
      "11    Upvote                   4            16\n",
      "12  Downvote                   1             1\n",
      "13  Downvote                   2             4\n",
      "14    Upvote                   4            16\n",
      "15  Downvote                   1             1\n",
      "16    Upvote                   5            25\n",
      "17    Upvote                   4            16\n",
      "18    Upvote                   4            16\n",
      "19    Upvote                   3             9\n",
      "20    Upvote                   4            16\n",
      "21  Downvote                   3             9\n",
      "22    Upvote                   2             4\n",
      "23    Upvote                   2             4\n",
      "24    Upvote                   2             4\n",
      "25    Upvote                   5            25\n",
      "26    Upvote                   3             9\n",
      "27    Upvote                   5            25\n",
      "28  Downvote                   1             1\n",
      "29  Downvote                   2             4\n",
      "30    Upvote                   1             1\n",
      "31  Downvote                   1             1\n",
      "32    Upvote                   3             9\n",
      "33  Downvote                   4            16\n",
      "34  Downvote                   4            16\n",
      "35    Upvote                   3             9\n",
      "36    Upvote                   2             4\n",
      "37  Downvote                   3             9\n",
      "38  Downvote                   2             4\n",
      "39    Upvote                   2             4\n",
      "40     TOTAL                 116      400 vBAT\n",
      "Number of voters: 40\n",
      "Percentage of Downvotes: 37.50%\n"
     ]
    }
   ],
   "source": [
    "# USERS' VOTING METRICS DATAFRAME\n",
    "\n",
    "degrees_preference_ledger = [(\"Upvote\", 2), (\"Upvote\", 3), (\"Upvote\", 5), (\"Downvote\", 1), \n",
    "                    (\"Downvote\", 3), (\"Upvote\", 4), (\"Upvote\", 4), (\"Upvote\", 2),\n",
    "                    (\"Downvote\", 2), (\"Downvote\", 5), (\"Upvote\", 3), (\"Upvote\", 4),\n",
    "                    (\"Downvote\", 1), (\"Downvote\", 2), (\"Upvote\", 4), (\"Downvote\", 1),\n",
    "                    (\"Upvote\", 5), (\"Upvote\", 4), (\"Upvote\", 4), (\"Upvote\", 3),\n",
    "                    (\"Upvote\", 4), (\"Downvote\", 3), (\"Upvote\", 2), (\"Upvote\", 2),\n",
    "                    (\"Upvote\", 2), (\"Upvote\", 5), (\"Upvote\", 3), (\"Upvote\", 5),\n",
    "                    (\"Downvote\", 1), (\"Downvote\", 2), (\"Upvote\", 1), (\"Downvote\", 1),\n",
    "                    (\"Upvote\", 3), (\"Downvote\", 4), (\"Downvote\", 4), (\"Upvote\", 3),\n",
    "                    (\"Upvote\", 2), (\"Downvote\", 3), (\"Downvote\", 2), (\"Upvote\", 2)]\n",
    "\n",
    "df = pd.DataFrame(degrees_preference_ledger, columns=['vote_type', 'degrees_preference'])\n",
    "\n",
    "# Quadratic fee calculation and appending to df\n",
    "df['quadratic_fee'] = df['degrees_preference']**2\n",
    "\n",
    "# Calculating users' quadratic fees\n",
    "QF_users = df.loc[df['vote_type'] == 'Upvote', 'degrees_preference'].sum() - df.loc[df['vote_type'] == 'Downvote', 'degrees_preference'].sum()\n",
    "\n",
    "# Calculating sums of 'degrees_preference' and 'quadratic_fee' columns\n",
    "sum_degrees_preference = df['degrees_preference'].sum()\n",
    "sum_quadratic_fee_numeric = df['quadratic_fee'].sum()\n",
    "sum_quadratic_fee = str(sum_quadratic_fee_numeric) + ' vBAT'\n",
    "\n",
    "sum_df = pd.DataFrame([['TOTAL', sum_degrees_preference, sum_quadratic_fee]], columns=df.columns)\n",
    "\n",
    "df_final = df.append(sum_df, ignore_index=True)\n",
    "\n",
    "print(df_final)\n",
    "\n",
    "\n",
    "# Number of users that voted\n",
    "def count_voters(vote_ledger):\n",
    "    return len(vote_ledger)\n",
    "\n",
    "total_voters = count_voters(degrees_preference_ledger)\n",
    "\n",
    "print(f\"Number of voters: {total_voters}\")\n",
    "\n",
    "# Percentage Downvotes calculation\n",
    "\n",
    "def calculate_downvote_percentage(df):\n",
    "    total_votes = df['vote_type'].count()\n",
    "    downvotes = df[df['vote_type'] == 'Downvote'].count()['vote_type']\n",
    "    \n",
    "    percentage_downvotes = (downvotes / total_votes) * 100\n",
    "    return percentage_downvotes\n",
    "\n",
    "percentage_downvotes = calculate_downvote_percentage(df)\n",
    "\n",
    "print(f\"Percentage of Downvotes: {percentage_downvotes:.2f}%\")"
   ]
  },
  {
   "cell_type": "code",
   "execution_count": 97,
   "metadata": {},
   "outputs": [
    {
     "name": "stdout",
     "output_type": "stream",
     "text": [
      "Total amount reimbursed to advertiser: 1337.50 vBAT\n",
      "Brave Cut: 112.50 vBAT\n",
      "Users' Cut: 450.00 vBAT\n"
     ]
    }
   ],
   "source": [
    "# POOL FUNDS DISTRIBUTION\n",
    "\n",
    "initial_pool_state = {\n",
    "    'sum_quadratic_fee': sum_quadratic_fee_numeric, # Total Quadratic fees in vBAT\n",
    "    'advertiser_deposit': 1500 # in vBAT. Hypothetical deposit in vBAT for advertiser to be eligible to Brave Ads ecosystem\n",
    "}\n",
    "\n",
    "# Locked Amount calculation = advertiser_deposit * %downvotes\n",
    "locked_amount = initial_pool_state['advertiser_deposit'] * (percentage_downvotes / 100)\n",
    "\n",
    "# Reimbursable Amount calculation = (advertiser_deposit * (1 - %downvotes)) + sum_quadratic_fee\n",
    "reimbursable_amount_advertisers = (initial_pool_state['advertiser_deposit'] * (1 - (percentage_downvotes / 100))) + initial_pool_state['sum_quadratic_fee']\n",
    "\n",
    "# Divided 80/20 Brave & Users Cuts from Locked Amount\n",
    "Brave_cut_amount = locked_amount * 0.20\n",
    "Users_cut_amount = locked_amount * 0.80\n",
    "\n",
    "print(f\"Total amount reimbursed to advertiser: {reimbursable_amount_advertisers:.2f} vBAT\")\n",
    "print(f\"Brave Cut: {Brave_cut_amount:.2f} vBAT\")\n",
    "print(f\"Users' Cut: {Users_cut_amount:.2f} vBAT\")"
   ]
  },
  {
   "cell_type": "code",
   "execution_count": 98,
   "metadata": {},
   "outputs": [
    {
     "name": "stdout",
     "output_type": "stream",
     "text": [
      "Average return per user: 11.25 vBAT\n",
      "Average quadratic fee expense per user: 10.00 vBAT\n",
      "Average user net return for participating: 1.25 vBAT\n"
     ]
    }
   ],
   "source": [
    "# USER SIDE ECONOMICS\n",
    "\n",
    "Average_return_per_user = Users_cut_amount / total_voters\n",
    "\n",
    "Average_QF_expense = initial_pool_state['sum_quadratic_fee'] / total_voters\n",
    "\n",
    "User_net_return_for_participating = Average_return_per_user - Average_QF_expense\n",
    "\n",
    "print(f\"Average return per user: {Average_return_per_user:.2f} vBAT\")\n",
    "print(f\"Average quadratic fee expense per user: {Average_QF_expense:.2f} vBAT\")\n",
    "print(f\"Average user net return for participating: {User_net_return_for_participating:.2f} vBAT\")"
   ]
  }
 ],
 "metadata": {
  "kernelspec": {
   "display_name": "Python 3",
   "language": "python",
   "name": "python3"
  },
  "language_info": {
   "codemirror_mode": {
    "name": "ipython",
    "version": 3
   },
   "file_extension": ".py",
   "mimetype": "text/x-python",
   "name": "python",
   "nbconvert_exporter": "python",
   "pygments_lexer": "ipython3",
   "version": "3.8.13"
  }
 },
 "nbformat": 4,
 "nbformat_minor": 4
}
